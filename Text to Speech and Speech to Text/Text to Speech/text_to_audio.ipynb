{
 "cells": [
  {
   "cell_type": "raw",
   "metadata": {},
   "source": [
    "from gtts import gTTS"
   ]
  },
  {
   "cell_type": "code",
   "execution_count": 5,
   "metadata": {},
   "outputs": [
    {
     "name": "stdout",
     "output_type": "stream",
     "text": [
      "enter the texti like red colour flower\n"
     ]
    }
   ],
   "source": [
    "text=input(\"enter the text\")\n",
    "audio=gTTS(text,lang=\"en\")\n",
    "audio.save(\"audio.mp3\")"
   ]
  },
  {
   "cell_type": "markdown",
   "metadata": {},
   "source": [
    "# Text file convert into audio file"
   ]
  },
  {
   "cell_type": "code",
   "execution_count": 1,
   "metadata": {},
   "outputs": [],
   "source": [
    "from gtts import gTTS"
   ]
  },
  {
   "cell_type": "code",
   "execution_count": 2,
   "metadata": {},
   "outputs": [],
   "source": [
    "text=\"\""
   ]
  },
  {
   "cell_type": "code",
   "execution_count": 3,
   "metadata": {},
   "outputs": [],
   "source": [
    "with open(\"file\",\"r\") as file:\n",
    "    for line in file:\n",
    "        text=text + line"
   ]
  },
  {
   "cell_type": "code",
   "execution_count": 4,
   "metadata": {},
   "outputs": [],
   "source": [
    "audio=gTTS(text)"
   ]
  },
  {
   "cell_type": "code",
   "execution_count": 5,
   "metadata": {},
   "outputs": [],
   "source": [
    "audio.save(\"file_audio.mp3\")"
   ]
  },
  {
   "cell_type": "markdown",
   "metadata": {},
   "source": [
    "# GUI Application"
   ]
  },
  {
   "cell_type": "code",
   "execution_count": 1,
   "metadata": {},
   "outputs": [],
   "source": [
    "from tkinter import*\n",
    "from functools import partial\n",
    "from gtts import gTTS\n",
    "from tkinter.ttk import *\n",
    "from tkinter.filedialog import askopenfile \n",
    "from tkinter import messagebox\n",
    "\n",
    "def convert(text):\n",
    "    text=(text.get())\n",
    "    audio=gTTS(text,lang=\"en\")\n",
    "    audio.save(\"audio.mp3\")\n",
    "    messagebox.showinfo('','succesfully converted')\n",
    "    \n",
    "    \n",
    "def open_file(): \n",
    "    file = askopenfile(mode ='r') \n",
    "    if file is not None: \n",
    "        content = file.read() \n",
    "        messagebox.showinfo('','file uploaded')\n",
    "        audio=gTTS(content,lang=\"en\")\n",
    "        audio.save(\"audio.mp3\")\n",
    "        \n",
    "    \n",
    "parent=Tk()\n",
    "parent.geometry('500x300')\n",
    "parent.title(\"Text to Audio\")\n",
    "\n",
    "user_input=StringVar()\n",
    "\n",
    "lab1=Label(parent,text='Enter the text').place(x=40,y=50)\n",
    "\n",
    "lab2=Label(parent,text='OR').place(x=200,y=90)\n",
    "\n",
    "text1=Entry(parent,textvariable=user_input).place(x=150,y=50)\n",
    "\n",
    "but1=Button(parent,text='choose file',command = open_file).place(x=170,y=130)\n",
    "\n",
    "\n",
    "but2=Button(parent,text='convert into audio',command=partial(convert,user_input)).place(x=150,y=200)\n",
    "\n",
    "parent.mainloop()"
   ]
  },
  {
   "cell_type": "code",
   "execution_count": null,
   "metadata": {},
   "outputs": [],
   "source": []
  }
 ],
 "metadata": {
  "kernelspec": {
   "display_name": "Python 3",
   "language": "python",
   "name": "python3"
  },
  "language_info": {
   "codemirror_mode": {
    "name": "ipython",
    "version": 3
   },
   "file_extension": ".py",
   "mimetype": "text/x-python",
   "name": "python",
   "nbconvert_exporter": "python",
   "pygments_lexer": "ipython3",
   "version": "3.6.8"
  }
 },
 "nbformat": 4,
 "nbformat_minor": 2
}
