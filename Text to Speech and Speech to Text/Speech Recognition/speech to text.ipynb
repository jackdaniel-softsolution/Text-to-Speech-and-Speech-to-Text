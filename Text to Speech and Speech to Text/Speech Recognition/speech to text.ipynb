{
 "cells": [
  {
   "cell_type": "markdown",
   "metadata": {},
   "source": [
    "# Audio Recognition"
   ]
  },
  {
   "cell_type": "code",
   "execution_count": 18,
   "metadata": {},
   "outputs": [],
   "source": [
    "import speech_recognition as sr"
   ]
  },
  {
   "cell_type": "code",
   "execution_count": 19,
   "metadata": {},
   "outputs": [],
   "source": [
    "r=sr.Recognizer()"
   ]
  },
  {
   "cell_type": "code",
   "execution_count": 20,
   "metadata": {},
   "outputs": [
    {
     "name": "stdout",
     "output_type": "stream",
     "text": [
      "you said : hello friends welcome to everyone now I tell some tips for avoiding Khurana the Quran is most dangerous disease now in the world most of the countries affected by the Corona because of this difficult to solve the solution of the save\n"
     ]
    }
   ],
   "source": [
    "jackhammer=sr.AudioFile(\"sound.wav\")\n",
    "with jackhammer as source:\n",
    "    #r.adjust_for_ambient_noise(source,duration=0.5)\n",
    "    audio=r.record(source)\n",
    "    try:\n",
    "        text=r.recognize_google(audio)\n",
    "        print(\"you said : {}\".format(text))\n",
    "    except:\n",
    "        print(\"sory\")"
   ]
  },
  {
   "cell_type": "code",
   "execution_count": null,
   "metadata": {},
   "outputs": [],
   "source": []
  }
 ],
 "metadata": {
  "kernelspec": {
   "display_name": "Python 3",
   "language": "python",
   "name": "python3"
  },
  "language_info": {
   "codemirror_mode": {
    "name": "ipython",
    "version": 3
   },
   "file_extension": ".py",
   "mimetype": "text/x-python",
   "name": "python",
   "nbconvert_exporter": "python",
   "pygments_lexer": "ipython3",
   "version": "3.6.8"
  }
 },
 "nbformat": 4,
 "nbformat_minor": 2
}
